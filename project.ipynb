{
 "cells": [
  {
   "cell_type": "markdown",
   "metadata": {},
   "source": [
    "# Analysis of the Heat Capacity of an Unknown Substance Using the Debye and Quantum Free Electron Models\n",
    "\n",
    "## Introduction\n",
    "The rate at which the internal energy of a substance changes with increasing temperature is called its heat capacity. More formally, the molar heat capacity $C_v$ is defined with the following,\n",
    "\n",
    "$\n",
    "\\begin{equation}\n",
    "\\displaystyle C_v = \\frac{\\partial E}{\\partial T}\n",
    "\\end{equation}\n",
    "$\n",
    "\n",
    "where E is the internal energy of a mol of the substance, and T is its temperature. To calculate the heat capacity, we need to model how the energy of the components of the substance depends on temperature. In the case of metals, the primary contributors to the heat capacity are the metal's lattice and electrons, and their temperature energy dependence can be approximated with the Debye model and the quantum free electron model, respectively.\n",
    "\n",
    "The heat capacity in the quantum free electron model is given by:\n",
    "\n",
    "$\n",
    "\\begin{equation}\n",
    "\\displaystyle C_v = \\int_0^{\\infty} Eg(E)\\frac{\\partial f(E)}{\\partial T} dE\n",
    "\\end{equation}\n",
    "$\n",
    "\n",
    "where $E$ is the free-electron energy, $g(E)$ is the density of states, and $f(E)$ is the Fermi-Dirac distribution. For the debye model, the molar heat capacity is given by:\n",
    "\n",
    "$\n",
    "\\begin{equation}\n",
    "\\displaystyle C_v = 9 N_a k_b \\Big(\\frac{T}{\\Theta_D}\\Big)^3 \\int_0^{\\Theta_D/T} \\frac{x^4e^x}{(e^x - 1)^2} dx\n",
    "\\end{equation}\n",
    "$\n",
    "\n",
    "where $x = \\hbar\\omega/k_bT$ and $\\Theta_D = \\hbar\\omega_D/k_b$. Both of the above integrals cannot be solved analytically—numerical integration is required to obtain the heat capacity.\n",
    "\n",
    "In this paper, we use the models described above to determine the theoretical heat capacity of an unknown substance and compare it to experimental data. However, before computing the theoretical heat capacity of the substance, we determine its Fermi energy and Debye temperature using the experimental heat capacity data. Python is used to perform this analysis, and we start by importing all required libraries:"
   ]
  },
  {
   "cell_type": "code",
   "execution_count": 1,
   "metadata": {},
   "outputs": [],
   "source": [
    "%matplotlib inline\n",
    "import matplotlib.pyplot as plt\n",
    "import numpy as np\n",
    "import pandas as pd\n",
    "import scipy.constants as const\n",
    "import IPython.display as disp\n",
    "plt.style.use('fivethirtyeight')"
   ]
  },
  {
   "cell_type": "markdown",
   "metadata": {},
   "source": [
    "## Analyze Heat Capacity Data From an Unknown Substance\n",
    "The heat capacity data for our unknown substance is stored in the file `heat_capacity.csv`. We first import this data using pandas and rename the columns for more convienient indexing:"
   ]
  },
  {
   "cell_type": "code",
   "execution_count": 2,
   "metadata": {},
   "outputs": [
    {
     "data": {
      "text/html": [
       "<div>\n",
       "<style>\n",
       "    .dataframe thead tr:only-child th {\n",
       "        text-align: right;\n",
       "    }\n",
       "\n",
       "    .dataframe thead th {\n",
       "        text-align: left;\n",
       "    }\n",
       "\n",
       "    .dataframe tbody tr th {\n",
       "        vertical-align: top;\n",
       "    }\n",
       "</style>\n",
       "<table border=\"1\" class=\"dataframe\">\n",
       "  <thead>\n",
       "    <tr style=\"text-align: right;\">\n",
       "      <th></th>\n",
       "      <th>temperature (K)</th>\n",
       "      <th>heat capacity (J mol^-1 K^-1)</th>\n",
       "    </tr>\n",
       "  </thead>\n",
       "  <tbody>\n",
       "    <tr>\n",
       "      <th>0</th>\n",
       "      <td>1.00</td>\n",
       "      <td>0.00074</td>\n",
       "    </tr>\n",
       "    <tr>\n",
       "      <th>1</th>\n",
       "      <td>1.76</td>\n",
       "      <td>0.00147</td>\n",
       "    </tr>\n",
       "    <tr>\n",
       "      <th>2</th>\n",
       "      <td>1.87</td>\n",
       "      <td>0.00159</td>\n",
       "    </tr>\n",
       "    <tr>\n",
       "      <th>3</th>\n",
       "      <td>2.00</td>\n",
       "      <td>0.00177</td>\n",
       "    </tr>\n",
       "    <tr>\n",
       "      <th>4</th>\n",
       "      <td>2.16</td>\n",
       "      <td>0.00198</td>\n",
       "    </tr>\n",
       "  </tbody>\n",
       "</table>\n",
       "</div>"
      ],
      "text/plain": [
       "   temperature (K)  heat capacity (J mol^-1 K^-1)\n",
       "0             1.00                        0.00074\n",
       "1             1.76                        0.00147\n",
       "2             1.87                        0.00159\n",
       "3             2.00                        0.00177\n",
       "4             2.16                        0.00198"
      ]
     },
     "metadata": {},
     "output_type": "display_data"
    }
   ],
   "source": [
    "data = pd.read_csv('heat_capacity.csv')\n",
    "disp.display(data.head())\n",
    "data.columns = ['temp', 'cv']"
   ]
  },
  {
   "cell_type": "markdown",
   "metadata": {},
   "source": [
    "We plot the data to get a sense of what it looks like,"
   ]
  },
  {
   "cell_type": "code",
   "execution_count": 3,
   "metadata": {},
   "outputs": [
    {
     "data": {
      "text/plain": [
       "<matplotlib.text.Text at 0x7fe9df4fffd0>"
      ]
     },
     "execution_count": 3,
     "metadata": {},
     "output_type": "execute_result"
    },
    {
     "data": {
      "image/png": "[encoded data removed]",
      "text/plain": [
       "<matplotlib.figure.Figure at 0x7fe9df539208>"
      ]
     },
     "metadata": {},
     "output_type": "display_data"
    }
   ],
   "source": [
    "data.plot(x='temp', y='cv', title='Heat Capacity of Unknown Substance', legend=False, style='o', figsize=(10, 7))\n",
    "plt.xlabel('Temperature (K)')\n",
    "plt.ylabel('Heat Capacity ($\\\\frac{J}{mol * K}$)')"
   ]
  },
  {
   "cell_type": "markdown",
   "metadata": {},
   "source": [
    "In order to compute the theoretical heat capacity of this substance using the Debye and quantum free electron models, we need to determine two physical constants, the Fermi energy, $E_f$ and the Debye temperature, $\\Theta_D$."
   ]
  }
 ],
 "metadata": {
  "kernelspec": {
   "display_name": "Python 3",
   "language": "python",
   "name": "python3"
  },
  "language_info": {
   "codemirror_mode": {
    "name": "ipython",
    "version": 3
   },
   "file_extension": ".py",
   "mimetype": "text/x-python",
   "name": "python",
   "nbconvert_exporter": "python",
   "pygments_lexer": "ipython3",
   "version": "3.6.1"
  }
 },
 "nbformat": 4,
 "nbformat_minor": 2
}
