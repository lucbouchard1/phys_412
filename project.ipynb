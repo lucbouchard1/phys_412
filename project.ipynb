{
 "cells": [
  {
   "cell_type": "markdown",
   "metadata": {},
   "source": [
    "# Analysis of the Heat Capacity of an Unknown Substance Using the Debye and Quantum Free Electron Models\n",
    "\n",
    "## Introduction\n",
    "The rate at which the internal energy of a substance changes with increasing temperature is called its heat capacity. More formally, the heat capacity $C_v$ is defined with the following,\n",
    "\n",
    "$\n",
    "\\begin{equation}\n",
    "C_v = \\frac{\\partial E}{\\partial T}\n",
    "\\end{equation}\n",
    "$\n",
    "\n",
    "where E is the internal energy of a substance, and T is its temperature. To calculate the heat capacity, we need to model how the energy of the components of the substance depends on temperature. In the case of metals, the primary contributors to the heat capacity are the metal's lattice and electrons, and their temperature energy dependence can be approximated with the Debye model and the quantum free electron model, repectively."
   ]
  },
  {
   "cell_type": "markdown",
   "metadata": {},
   "source": [
    "## Analyze Data From an Unknown Substance "
   ]
  },
  {
   "cell_type": "code",
   "execution_count": null,
   "metadata": {},
   "outputs": [],
   "source": []
  }
 ],
 "metadata": {
  "kernelspec": {
   "display_name": "Python 3",
   "language": "python",
   "name": "python3"
  },
  "language_info": {
   "codemirror_mode": {
    "name": "ipython",
    "version": 3
   },
   "file_extension": ".py",
   "mimetype": "text/x-python",
   "name": "python",
   "nbconvert_exporter": "python",
   "pygments_lexer": "ipython3",
   "version": "3.6.1"
  }
 },
 "nbformat": 4,
 "nbformat_minor": 2
}
